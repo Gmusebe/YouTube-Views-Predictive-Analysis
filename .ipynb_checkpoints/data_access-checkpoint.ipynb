{
 "cells": [
  {
   "cell_type": "markdown",
   "id": "9a3a0703",
   "metadata": {},
   "source": [
    "# Data Collection"
   ]
  },
  {
   "cell_type": "markdown",
   "id": "6161da5b",
   "metadata": {},
   "source": [
    "## Setting the environment"
   ]
  },
  {
   "cell_type": "code",
   "execution_count": 1,
   "id": "7c09d2a3",
   "metadata": {},
   "outputs": [
    {
     "ename": "ERROR",
     "evalue": "Error in library(tuber): there is no package called ‘tuber’\n",
     "output_type": "error",
     "traceback": [
      "Error in library(tuber): there is no package called ‘tuber’\nTraceback:\n",
      "1. library(tuber)"
     ]
    }
   ],
   "source": [
    "library(tuber)\n",
    "library(magrittr)\n",
    "library(youtubecaption)"
   ]
  },
  {
   "cell_type": "code",
   "execution_count": null,
   "id": "dca0e268",
   "metadata": {},
   "outputs": [],
   "source": [
    "client_id <- \"201724301171-sina4isjr04n6f93a9mbcsjqrd3pgbmr.apps.googleusercontent.com\"\n",
    "client_secret <- \"z0Czo17ooY-CDlqSsUh6D4jx\"\n",
    "\n",
    "# Now you can run tuber’s yt_oauth() function to authenticate your application.\n",
    "\n",
    "yt_oauth(app_id = client_id,\n",
    "         app_secret = client_secret,\n",
    "         token = '')"
   ]
  },
  {
   "cell_type": "markdown",
   "id": "184760a1",
   "metadata": {},
   "source": [
    "# YouTube"
   ]
  },
  {
   "cell_type": "markdown",
   "id": "cf7da9bb",
   "metadata": {},
   "source": [
    "## Accessing YouTube data"
   ]
  },
  {
   "cell_type": "code",
   "execution_count": null,
   "id": "9b0dbc5c",
   "metadata": {},
   "outputs": [],
   "source": [
    "codebasics_datascience_playlist <- stringr::str_split(\n",
    "  string = \"https://www.youtube.com/playlist?list=PLeo1K3hjS3us_ELKYSj_Fth2tIEkdKXvV\", \n",
    "  pattern = \"=\", \n",
    "  n = 2,\n",
    "  simplify = TRUE)[ , 2]\n",
    "codebasics_datascience_playlist\n",
    "\n",
    "codeBasicsDS <- tuber::get_playlist_items(filter = \n",
    "                                                c(playlist_id = \"PLeo1K3hjS3us_ELKYSj_Fth2tIEkdKXvV\"), \n",
    "                                              part = \"contentDetails\",\n",
    "                                              # set this to the number of videos\n",
    "                                              max_results = 200)\n",
    "codeBasicsDS %>% dplyr::glimpse(78)"
   ]
  },
  {
   "cell_type": "markdown",
   "id": "f597768d",
   "metadata": {},
   "source": [
    "## Video Data\n",
    "### Statistics"
   ]
  },
  {
   "cell_type": "code",
   "execution_count": null,
   "id": "49fa3e72",
   "metadata": {},
   "outputs": [],
   "source": [
    "# Collecting statistics from a YouTube playlist\n",
    "# Get ID's of the videos:\n",
    "codeBasicsDS_id <- base::as.vector(codeBasicsDS$contentDetails.videoId)\n",
    "\n",
    "# View the IDs\n",
    "dplyr::glimpse(codeBasicsDS_id) # Returns the first eight video ID. \n",
    "video_ID <- data.frame(codeBasicsDS_id)\n",
    "\n",
    "# a function that extracts the statistics for each video on the playlist\n",
    "# Function to scrape stats for all vids\n",
    "videostats = lapply(as.character(video_ID$codeBasicsDS_id), function(x){\n",
    "  get_stats(video_id = x)\n",
    "})\n",
    "videostats = do.call(rbind.data.frame, videostats)\n",
    "\n",
    "codeBasicsDS_stats_data <- merge(codeBasicsDS, videostats, by.x = \"contentDetails.videoId\", \n",
    "                   by.y = \"id\", all = TRUE)"
   ]
  },
  {
   "cell_type": "markdown",
   "id": "36777b08",
   "metadata": {},
   "source": [
    "## Single Video Data"
   ]
  },
  {
   "cell_type": "markdown",
   "id": "6c3f2d12",
   "metadata": {},
   "source": [
    "### Stats"
   ]
  },
  {
   "cell_type": "code",
   "execution_count": null,
   "id": "c6f52254",
   "metadata": {},
   "outputs": [],
   "source": [
    "\n",
    "# To get the video stats copy the id which is after the \"=\" sighn and use the function beow to have it'ts stats\n",
    "get_stats(video_id = \"_V8eKsto3Ug\")"
   ]
  },
  {
   "cell_type": "markdown",
   "id": "ef82dd87",
   "metadata": {},
   "source": [
    "### Comments"
   ]
  },
  {
   "cell_type": "code",
   "execution_count": null,
   "id": "f0be40b7",
   "metadata": {},
   "outputs": [],
   "source": [
    "# get all comments of a video:\n",
    "comments <-get_all_comments(video_id = \"_V8eKsto3Ug\")"
   ]
  },
  {
   "cell_type": "markdown",
   "id": "63f3039a",
   "metadata": {},
   "source": [
    "### Captions"
   ]
  },
  {
   "cell_type": "code",
   "execution_count": null,
   "id": "91462a69",
   "metadata": {},
   "outputs": [],
   "source": [
    "# In the tuber this would be:\n",
    "captions <- get_captions(video_id = \"-6RqxhNO2yY\")\n",
    "# For the second video:\n",
    "url <- \"https://www.youtube.com/watch?v=6lBPM-MiGNI&list=PLeo1K3hjS3us_ELKYSj_Fth2tIEkdKXvV&index=3\"\n",
    "caption <- get_caption(url)\n",
    "caption"
   ]
  },
  {
   "cell_type": "markdown",
   "id": "90a4ece0",
   "metadata": {},
   "source": [
    "### Details"
   ]
  },
  {
   "cell_type": "code",
   "execution_count": null,
   "id": "3a1b47c8",
   "metadata": {},
   "outputs": [],
   "source": [
    "# Get video details:\n",
    "vid_details <- tuber::get_video_details(video_id = \"-6RqxhNO2yY\")\n",
    "# In a data.frame:\n",
    "for (i in seq_along(vid_details)) {\n",
    "  colnames(vid_details[[i]]) = paste0('V', seq_len(ncol(vid_details[[i]])))\n",
    "}\n",
    "\n",
    "vid_details = do.call(rbind, vid_details)"
   ]
  },
  {
   "cell_type": "markdown",
   "id": "171178dd",
   "metadata": {},
   "source": [
    "# YouTube Channels \n",
    "### Stats"
   ]
  },
  {
   "cell_type": "code",
   "execution_count": null,
   "id": "76d4974a",
   "metadata": {},
   "outputs": [],
   "source": [
    "marquesbrownlee_channel_stats <- get_channel_stats(channel_id = \"UCBJycsmduvYEL83R_U4JriQ\")\n",
    "marquesbrownlee_channel_stats = do.call(rbind.data.frame, marquesbrownlee_channel_stats)"
   ]
  },
  {
   "cell_type": "markdown",
   "id": "079974e0",
   "metadata": {},
   "source": [
    "### Videos in Channel"
   ]
  },
  {
   "cell_type": "code",
   "execution_count": null,
   "id": "3d02d7b5",
   "metadata": {},
   "outputs": [],
   "source": [
    "videos = yt_search(term=\"\", type=\"video\", channel_id = \"UCBJycsmduvYEL83R_U4JriQ\")\n",
    "videos = videos %>%\n",
    "  mutate(date = as.Date(publishedAt)) %>%\n",
    "  filter(date > \"2016-01-01\")"
   ]
  },
  {
   "cell_type": "markdown",
   "id": "46838082",
   "metadata": {},
   "source": [
    "### Video Stats"
   ]
  },
  {
   "cell_type": "code",
   "execution_count": null,
   "id": "18fdd394",
   "metadata": {},
   "outputs": [],
   "source": [
    "marquesbrownlee_video_stats <- tuber::get_all_channel_video_stats(channel_id = \"UCBJycsmduvYEL83R_U4JriQ\")"
   ]
  },
  {
   "cell_type": "markdown",
   "id": "3068f365",
   "metadata": {},
   "source": [
    "## Videos with phrase\n",
    "### AWS"
   ]
  },
  {
   "cell_type": "code",
   "execution_count": null,
   "id": "b67ed91b",
   "metadata": {},
   "outputs": [],
   "source": [
    "aws_yt_videos <- yt_search(\"aws\")"
   ]
  }
 ],
 "metadata": {
  "kernelspec": {
   "display_name": "R",
   "language": "R",
   "name": "ir"
  },
  "language_info": {
   "codemirror_mode": "r",
   "file_extension": ".r",
   "mimetype": "text/x-r-source",
   "name": "R",
   "pygments_lexer": "r",
   "version": "3.6.1"
  }
 },
 "nbformat": 4,
 "nbformat_minor": 5
}
